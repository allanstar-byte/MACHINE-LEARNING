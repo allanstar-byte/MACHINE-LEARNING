{
  "nbformat": 4,
  "nbformat_minor": 0,
  "metadata": {
    "colab": {
      "name": "CRAFTING_SETS",
      "provenance": [],
      "toc_visible": true,
      "authorship_tag": "ABX9TyP16jdnLNjKyhL6zvjvxPyZ",
      "include_colab_link": true
    },
    "kernelspec": {
      "name": "python3",
      "display_name": "Python 3"
    },
    "language_info": {
      "name": "python"
    }
  },
  "cells": [
    {
      "cell_type": "markdown",
      "metadata": {
        "id": "view-in-github",
        "colab_type": "text"
      },
      "source": [
        "<a href=\"https://colab.research.google.com/github/allanstar-byte/MACHINE-LEARNING/blob/main/CRAFTING_SETS.ipynb\" target=\"_parent\"><img src=\"https://colab.research.google.com/assets/colab-badge.svg\" alt=\"Open In Colab\"/></a>"
      ]
    },
    {
      "cell_type": "markdown",
      "metadata": {
        "id": "ZP38NHuOOCVZ"
      },
      "source": [
        "# **Crafting sets**"
      ]
    },
    {
      "cell_type": "markdown",
      "metadata": {
        "id": "m5jX7vXHOLHE"
      },
      "source": [
        " ### **Understanding your variables:**\n",
        "\n",
        "First, you must analyze your variables, and determine which variable you want your model to predict - we will refer to it as the dependent variable. \n",
        "\n",
        "Next, you must establish which other variables will help you predict your dependent variable. These will be referred to as independent variables.\n",
        "\n",
        "It is important to perform exploratory data analysis to identify if there is a relationship between your dependent and independent variables. This does not mean that your independent variable causes the dependent one, just that they are connected.\n",
        "\n",
        "For example, if we have a dataset on students, we may find variables such as student height, mock exam results, and national exam results. Plotting mock exam results against national exam results, you will see them to roughly take the shape of a line, which makes intuitive sense: Students who do poorly in the mock are likely not to be ready for the national exam, and vice versa.\n",
        "\n",
        "Plotting height against national exam results will probably lead to a much more scattered plot, indicating that there isn't a strong relationship between height and academic performance. \n",
        "\n",
        "Therefore, as we create our training and testing set to predict national exam performance, we will want to include mock exam performance, but not height. \n",
        "\n",
        "### **Why do we need two sets?**\n",
        "\n",
        "This is where the machine learning actually happens: The training set includes data on your dependent variable, alongside all independent variables you choose to include. Your supervised learning algorithm will then go through this data set and for a given row try to predict what the dependent variable should be given the independent ones, then adjust its understanding of the process based on how good its prediction was.  Over time,  your algorithm will get really good at recognizing the patterns in your data set.\n",
        "\n",
        "Why do we need the test set then? Well, the test set is not used for training, but to validate how good the model you've created is at predicting the desired dependent variable. \n",
        "\n",
        "Later this week, we will explore ethical considerations when creating train and test datasets. Remember this though: Your predictive model is only as good as the data you've used to train it. There have been many challenges with training, the reading and exercises below will run you through ways to deal with them."
      ]
    },
    {
      "cell_type": "markdown",
      "metadata": {
        "id": "ggWRgQzkOm0I"
      },
      "source": [
        "[Dataset Download](https://drive.google.com/file/d/12OGVlkFkLwycegmG5zkdDfzoxCJ3qU_k/view?usp=sharing)"
      ]
    },
    {
      "cell_type": "markdown",
      "metadata": {
        "id": "HKX1MttfO-YG"
      },
      "source": [
        "Our major goal here, is to predict how a student will perform in the national exam by using their mock exam scores.There's a few steps we need to do to achieve this.\n",
        "\n",
        "First, we need split the dataset into training and test datasets so that we can train the model to predict our desired outcome\n",
        "\n",
        "After splitting the dataset , we are going to employ a method for training the datasets.\n",
        "\n",
        "The following example will be split into two parts; the first being how to split the dataset into train and test datasets. The second part is how to train the data using linear regression.\n",
        "\n",
        "In this example, we are going to learn how to split a dataset into train and test sets so that we can start training our model. We will first show a naive way of splitting a dataset then continue to show different ways of efficiently splitting the dataset.\n",
        "\n",
        "The dataset we are going to use will comprise of 1000 students exam data from both public and private schools in Kenya. 50% of this data is from public school and the other 50% is from private schools. We need to maintain this proportion when creating our sample dataset."
      ]
    },
    {
      "cell_type": "markdown",
      "metadata": {
        "id": "lX2hGBv7Gr_m"
      },
      "source": [
        "**Naive splitting:**\n",
        "\n",
        "- Show a simple 3 column table, with 1 dependent 1 independent variable. The independent variable is the Mock exam column and the dependent variable is National exam column.\n",
        "- use simple splits to create 2 datasets, one for train, one for test"
      ]
    },
    {
      "cell_type": "markdown",
      "metadata": {
        "id": "g4gP2CXbamL8"
      },
      "source": [
        "## **Import the Relevant Libraries**"
      ]
    },
    {
      "cell_type": "code",
      "metadata": {
        "id": "4uuTY3-1av98"
      },
      "source": [
        "import numpy as np\n",
        "import pandas as pd\n",
        "from sklearn.model_selection import train_test_split\n"
      ],
      "execution_count": 2,
      "outputs": []
    },
    {
      "cell_type": "markdown",
      "metadata": {
        "id": "Z8coNT0Lbgh-"
      },
      "source": [
        "## **Loading the data**\n",
        "\n"
      ]
    },
    {
      "cell_type": "code",
      "metadata": {
        "id": "KW9mi-ZSQb2x",
        "colab": {
          "base_uri": "https://localhost:8080/",
          "height": 142
        },
        "outputId": "cb55efe5-e2fa-467f-ee1c-0ce60f75cbd9"
      },
      "source": [
        "#Load the dataset\n",
        "data = pd.read_csv('/content/student_exam_data.csv')\n",
        "\n",
        "#displaying the dataset\n",
        "data.head(3)\n"
      ],
      "execution_count": 6,
      "outputs": [
        {
          "output_type": "execute_result",
          "data": {
            "text/html": [
              "<div>\n",
              "<style scoped>\n",
              "    .dataframe tbody tr th:only-of-type {\n",
              "        vertical-align: middle;\n",
              "    }\n",
              "\n",
              "    .dataframe tbody tr th {\n",
              "        vertical-align: top;\n",
              "    }\n",
              "\n",
              "    .dataframe thead th {\n",
              "        text-align: right;\n",
              "    }\n",
              "</style>\n",
              "<table border=\"1\" class=\"dataframe\">\n",
              "  <thead>\n",
              "    <tr style=\"text-align: right;\">\n",
              "      <th></th>\n",
              "      <th>mock_result</th>\n",
              "      <th>school_type</th>\n",
              "      <th>national_result</th>\n",
              "    </tr>\n",
              "  </thead>\n",
              "  <tbody>\n",
              "    <tr>\n",
              "      <th>0</th>\n",
              "      <td>27</td>\n",
              "      <td>PUBLIC</td>\n",
              "      <td>55</td>\n",
              "    </tr>\n",
              "    <tr>\n",
              "      <th>1</th>\n",
              "      <td>60</td>\n",
              "      <td>PRIVATE</td>\n",
              "      <td>35</td>\n",
              "    </tr>\n",
              "    <tr>\n",
              "      <th>2</th>\n",
              "      <td>57</td>\n",
              "      <td>PUBLIC</td>\n",
              "      <td>39</td>\n",
              "    </tr>\n",
              "  </tbody>\n",
              "</table>\n",
              "</div>"
            ],
            "text/plain": [
              "   mock_result school_type  national_result\n",
              "0           27      PUBLIC               55\n",
              "1           60     PRIVATE               35\n",
              "2           57      PUBLIC               39"
            ]
          },
          "metadata": {
            "tags": []
          },
          "execution_count": 6
        }
      ]
    },
    {
      "cell_type": "markdown",
      "metadata": {
        "id": "djguf_FMQehW"
      },
      "source": [
        "## **Splitting the dataset**"
      ]
    },
    {
      "cell_type": "code",
      "metadata": {
        "id": "CHMbEFpkWT4X",
        "colab": {
          "base_uri": "https://localhost:8080/"
        },
        "outputId": "ab31b9f6-bca5-4e56-ef47-e991dbdc436f"
      },
      "source": [
        "#Split the dataset into train and test sets.\n",
        "# we will split the dataset such that we have the first 700 entries of our dataset as train and the rest 300 entries as test\n",
        "\n",
        "train = data[:700] \n",
        "\n",
        "# Drop all the indexes of the train data we created above from the main data set then store the remaining data in a variable called test\n",
        "test = data.drop(train.index)\n",
        "\n",
        "# Confirm that the train and test dataset have out desired length\n",
        "print(\"train:\" + str(len(train)))\n",
        "print(\"test:\"+ str(len(test)))\n"
      ],
      "execution_count": 7,
      "outputs": [
        {
          "output_type": "stream",
          "text": [
            "train:700\n",
            "test:300\n"
          ],
          "name": "stdout"
        }
      ]
    },
    {
      "cell_type": "markdown",
      "metadata": {
        "id": "hw6QWkjKMA6e"
      },
      "source": [
        "## **Analyzing the sets**:\n",
        "\n",
        "\n",
        "How similar are the training and test datasets?\n"
      ]
    },
    {
      "cell_type": "code",
      "metadata": {
        "id": "wU4hiPUdQ7l1",
        "colab": {
          "base_uri": "https://localhost:8080/"
        },
        "outputId": "ea34308d-f3b3-4db7-cfbe-0229336c8206"
      },
      "source": [
        "# Let's analyse the training and the test dataset and see if the right proportions. \n",
        "# Ideally, we want both of our training and test datasets to have a 50-50 apportionment of private and public schools\n",
        "\n",
        "# Check the apportionment of Private and Public schools in the train data set\n",
        "train_count=train['school_type'].value_counts()\n",
        "\n",
        "# Check the apportionment of Private and Public in the test data set\n",
        "test_count=test['school_type'].value_counts()\n",
        "\n",
        "# Print out the apportionment of private and public schools in both train and test dataset\n",
        "print(train_count)\n",
        "print('*************************')\n",
        "print(test_count)"
      ],
      "execution_count": 8,
      "outputs": [
        {
          "output_type": "stream",
          "text": [
            "PUBLIC     450\n",
            "PRIVATE    250\n",
            "Name: school_type, dtype: int64\n",
            "*************************\n",
            "PRIVATE    250\n",
            "PUBLIC      50\n",
            "Name: school_type, dtype: int64\n"
          ],
          "name": "stdout"
        }
      ]
    },
    {
      "cell_type": "markdown",
      "metadata": {
        "id": "CX_ZCLc_eNBJ"
      },
      "source": [
        "As you can see,  the number of public schools in the train dataset is 450 while that of private schools is 250.This translates to 65% and 35%  respectively, which is not the proportion we are aiming for.\n",
        "\n",
        "Similarly, in the test dataset there are 250 public schools and 50 private schools. This in turn translates to 84% and 16% respectively. Again, this is not quite the proportion we were aiming for.\n",
        "\n",
        "In conclusion this differs greatly from what we are aiming for, which is to have an equal proportion of private schools and public school in both the train/test dataset.That is, to have 50% of public school and 50% of private school in both the train and test dataset.\n",
        "\n",
        "This is why we termed this as a naive way of splitting the dataset because it does not reflect the populations initial proportion.\n",
        "\n",
        "To achieve the proportion we want, we will employ one of the sampling techniques we covered in module 1"
      ]
    },
    {
      "cell_type": "markdown",
      "metadata": {
        "id": "CCha1fX_RHbO"
      },
      "source": [
        "## **train_test_split and it's options**\n",
        "\n",
        "Next, we are going to demonstrate another way you can achieve similar results using sklearn library"
      ]
    },
    {
      "cell_type": "code",
      "metadata": {
        "id": "NCkXyvKgSSq3",
        "colab": {
          "base_uri": "https://localhost:8080/"
        },
        "outputId": "436b9861-c264-42ed-e9df-cc16cd8e7703"
      },
      "source": [
        "# Now we will use sklearn library to split the data set into train and test datasets.Additionally, We will make use of the train_test_split method\n",
        "# The method takes in an dataframe, test_size or train_size as arguments. The dataframe signifies the dataframe we want to split and the test_size/train_size indicates the size of either the train or test dataset we want to have\n",
        "# We'll also use a third argument called stratify which will help us stratifiy the data once we split it.\n",
        "# You can read more on this method through this link https://scikit-learn.org/stable/modules/generated/sklearn.model_selection.train_test_split.html\n",
        "\n",
        "# Split our datset into train_data and test_data using sklearn's train_test_split method\n",
        "train_data, test_data = train_test_split(data, test_size=0.3,stratify=data['school_type'])\n",
        "\n",
        "# Preview the train dataset\n",
        "print(train_data.shape)\n",
        "\n",
        "# Preview the test dataset\n",
        "print(test_data.shape)\n",
        "\n",
        "\n"
      ],
      "execution_count": 15,
      "outputs": [
        {
          "output_type": "stream",
          "text": [
            "(700, 3)\n",
            "(300, 3)\n"
          ],
          "name": "stdout"
        }
      ]
    }
  ]
}